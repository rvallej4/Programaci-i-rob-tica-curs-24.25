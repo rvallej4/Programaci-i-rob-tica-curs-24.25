{
  "nbformat": 4,
  "nbformat_minor": 0,
  "metadata": {
    "colab": {
      "provenance": []
    },
    "kernelspec": {
      "name": "python3",
      "display_name": "Python 3"
    },
    "language_info": {
      "name": "python"
    }
  },
  "cells": [
    {
      "cell_type": "markdown",
      "source": [
        "Avui és divendres. Quants dies té la setmana?"
      ],
      "metadata": {
        "id": "9IwO-k1cjghB"
      }
    },
    {
      "cell_type": "code",
      "execution_count": null,
      "metadata": {
        "colab": {
          "base_uri": "https://localhost:8080/"
        },
        "id": "CSnKbn67jPtL",
        "outputId": "4570159b-2e1e-440b-e20d-0f01758e7dd7"
      },
      "outputs": [
        {
          "output_type": "stream",
          "name": "stdout",
          "text": [
            "7\n"
          ]
        }
      ],
      "source": [
        "dies_de_la_setmana=7\n",
        "print (dies_de_la_setmana)\n"
      ]
    },
    {
      "cell_type": "markdown",
      "source": [
        "1. Un fabricant ven 48 cuines a 93 € una. Cobra 37 euros pel transport. Quant haurà cobrat en total?\n"
      ],
      "metadata": {
        "id": "vYPA2fKHTC8K"
      }
    },
    {
      "cell_type": "code",
      "source": [
        "cuina=48\n",
        "preu_cuina=93\n",
        "transport_total_cada_un=37\n",
        "preu_totes_cuines=cuina*preu_cuina\n",
        "print(preu_totes_cuines)\n",
        "total = preu_totes_cuines + (cuina*transport_total_cada_un)\n",
        "print(total)\n",
        "print(\"El preu final per repartir totes les cuines amb el seu transport ha estat de:\", total, \"euros\")"
      ],
      "metadata": {
        "colab": {
          "base_uri": "https://localhost:8080/"
        },
        "id": "w_36k-D2T6f9",
        "outputId": "7c81345f-a6f0-4ad9-dce5-445e9bcf65c8"
      },
      "execution_count": null,
      "outputs": [
        {
          "output_type": "stream",
          "name": "stdout",
          "text": [
            "4464\n",
            "6240\n",
            "El preu final per repartir totes les cuines amb el seu transport ha estat de: 6240 euros\n"
          ]
        }
      ]
    },
    {
      "cell_type": "markdown",
      "source": [
        "2. En una guardiola hi ha 120 euros; en una altra hi ha 215 i en una tercera 163. Si repartim els\n",
        "euros entre 6 persones, quants en toquen a cada una?\n"
      ],
      "metadata": {
        "id": "52o7SmnMTO2G"
      }
    },
    {
      "cell_type": "code",
      "source": [
        "guardiola_1=120\n",
        "guardiola_2=215\n",
        "guardiola_3=163\n",
        "total_a_repartir=(guardiola_1+guardiola_2+guardiola_3)/6\n",
        "print(total_a_repartir)\n",
        "print('El preu total a repartir és de', total_a_repartir, \"euros\")"
      ],
      "metadata": {
        "colab": {
          "base_uri": "https://localhost:8080/"
        },
        "id": "FQtcXpXeUwr_",
        "outputId": "5f06d297-3213-4945-babe-56922144bf03"
      },
      "execution_count": null,
      "outputs": [
        {
          "output_type": "stream",
          "name": "stdout",
          "text": [
            "83.0\n",
            "El preu total a repartir és de 83.0 euros\n"
          ]
        }
      ]
    },
    {
      "cell_type": "markdown",
      "source": [
        "3. Una castanyera tenia 250 castanyes torrades. Si en ven 17 dotzenes i a més treu 9 castanyes\n",
        "cremades, quantes li'n queden per vendre?\n",
        "\n",
        "\n"
      ],
      "metadata": {
        "id": "iSv13HfLTRje"
      }
    },
    {
      "cell_type": "code",
      "source": [
        "total_castanyes_torrades=250\n",
        "ven=(17*12)+9\n",
        "print (ven)\n",
        "total=total_castanyes_torrades-ven\n",
        "print(total)\n",
        "print(\"Li queden per vendre\", total, \"castanyes\")"
      ],
      "metadata": {
        "colab": {
          "base_uri": "https://localhost:8080/"
        },
        "id": "oKTufeJbVIFR",
        "outputId": "c90bdbfe-c946-42d3-e9da-5394061cb8bd"
      },
      "execution_count": null,
      "outputs": [
        {
          "output_type": "stream",
          "name": "stdout",
          "text": [
            "213\n",
            "37\n",
            "Li queden per vendre 37 castanyes\n"
          ]
        }
      ]
    },
    {
      "cell_type": "markdown",
      "source": [
        "4. Un ramader va guanyar en un any 2.850 euros ; va guardar-se'n 700, i amb la resta va comprar 5\n",
        "vaques. Quants euros val cada vaca?\n"
      ],
      "metadata": {
        "id": "lUtMKmT6Tbls"
      }
    },
    {
      "cell_type": "code",
      "source": [
        "ramader_guanya=2850\n",
        "ramader_guarda=700\n",
        "ramader_compra_5_vaques=(ramader_guanya - ramader_guarda)/5\n",
        "print(ramader_compra_5_vaques)\n",
        "print(\"Cada vaca li ha costat\", ramader_compra_5_vaques, \"euros\")"
      ],
      "metadata": {
        "colab": {
          "base_uri": "https://localhost:8080/"
        },
        "id": "PRvAkf2MVzz3",
        "outputId": "c84e98e7-163b-4ed7-de67-94b49c3740c2"
      },
      "execution_count": null,
      "outputs": [
        {
          "output_type": "stream",
          "name": "stdout",
          "text": [
            "430.0\n",
            "Cada vaca li ha costat 430.0 euros\n"
          ]
        }
      ]
    },
    {
      "cell_type": "markdown",
      "source": [
        "5. A la llibreta d'estalvis tinc 275 euros. Hi poso dos bitllets de 10 euros i tres monedes de 2 euros. Quants euros hi tinc ara?\n"
      ],
      "metadata": {
        "id": "9IwGYkHUTm_J"
      }
    },
    {
      "cell_type": "code",
      "source": [
        "estalvis=275\n",
        "bitllets= 10 * 2\n",
        "monedes= 2 * 3\n",
        "print(estalvis)\n",
        "print(bitllets)\n",
        "print(monedes)\n",
        "total1=estalvis+bitllets+monedes\n",
        "print(\"Tinc\",total1, \"euros a la llibreta d'estalvis\")"
      ],
      "metadata": {
        "colab": {
          "base_uri": "https://localhost:8080/"
        },
        "id": "3jqsocLkcloR",
        "outputId": "ad792c2b-bb93-4ce6-8f80-57cf0d902745"
      },
      "execution_count": null,
      "outputs": [
        {
          "output_type": "stream",
          "name": "stdout",
          "text": [
            "275\n",
            "20\n",
            "6\n",
            "Tinc 301 euros a la llibreta d'estalvis\n"
          ]
        }
      ]
    },
    {
      "cell_type": "markdown",
      "source": [
        "6. A una família li falten 26.625 euros per poder comprar una casa que val 98.370 euros. Quants euros té?\n"
      ],
      "metadata": {
        "id": "3rnwstn5TqmJ"
      }
    },
    {
      "cell_type": "code",
      "source": [
        "falten=26625\n",
        "casa=98370\n",
        "tenen=casa - falten\n",
        "print(\"Una família tenen\", tenen, \"euros per comprar una casa. Per tant els falten\", falten,\"per comprar la casa de 98370 euros.\")"
      ],
      "metadata": {
        "colab": {
          "base_uri": "https://localhost:8080/"
        },
        "id": "-ptuj0nLe3Vw",
        "outputId": "a0de780b-23a3-4270-8b41-98f0c0051ebf"
      },
      "execution_count": null,
      "outputs": [
        {
          "output_type": "stream",
          "name": "stdout",
          "text": [
            "Una família tenen 71745 euros per comprar una casa. Per tant els falten 26625 per comprar la casa de 98370 euros.\n"
          ]
        }
      ]
    },
    {
      "cell_type": "markdown",
      "source": [
        "7. Si dues revistes pesen 432 grams i el pes d'aquestes dues revistes és el mateix que cinc rotuladors. Quant pesa un rotulador?\n"
      ],
      "metadata": {
        "id": "8b6VOoWJTsaL"
      }
    },
    {
      "cell_type": "code",
      "source": [
        "revistas_2=432\n",
        "rotulador=(revistas_2/2)/5\n",
        "print(rotulador)\n",
        "print(\"Un retolador pesa\", rotulador, \"grams\")"
      ],
      "metadata": {
        "colab": {
          "base_uri": "https://localhost:8080/"
        },
        "id": "MbgmU6Iyfdc9",
        "outputId": "a364d838-e239-4e0f-fc8d-f6848eb2e834"
      },
      "execution_count": null,
      "outputs": [
        {
          "output_type": "stream",
          "name": "stdout",
          "text": [
            "43.2\n",
            "Un retolador pesa 43.2 grams\n"
          ]
        }
      ]
    },
    {
      "cell_type": "markdown",
      "source": [
        "8. Una font raja 86 litres d'aigua per minut, d'una altra 74 litres i d'una tercera 132 litres. Quants litres ragen les tres fonts juntes en una hora?\n"
      ],
      "metadata": {
        "id": "gkzvSYsLTyGu"
      }
    },
    {
      "cell_type": "code",
      "source": [
        "font_1=86*60\n",
        "font_2=74*60\n",
        "font_3=132*60\n",
        "fonts=font_1+font_2+font_3\n",
        "print(fonts)\n",
        "print(\"Les tres fons juntes rajen\", fonts, \"L/h\")\n"
      ],
      "metadata": {
        "colab": {
          "base_uri": "https://localhost:8080/"
        },
        "id": "QYxsLMU3Nq2H",
        "outputId": "4dcd1db3-9243-4755-9fba-79a55594de7d"
      },
      "execution_count": null,
      "outputs": [
        {
          "output_type": "stream",
          "name": "stdout",
          "text": [
            "17520\n",
            "Les tres fons juntes rajen 17520 L/h\n"
          ]
        }
      ]
    },
    {
      "cell_type": "markdown",
      "source": [
        "9. Un terrissaire fa 301 gerres cada setmana. Si les posa en caixes de 7 gerres, quantes caixes n'omple?\n"
      ],
      "metadata": {
        "id": "_EGVKrm6T141"
      }
    },
    {
      "cell_type": "code",
      "source": [
        "gerres=301\n",
        "quantitat_caixa=7\n",
        "caixes=gerres/quantitat_caixa\n",
        "print(caixes)\n",
        "print(\"N'haurà fet exactament\", caixes, \"caixes\")"
      ],
      "metadata": {
        "colab": {
          "base_uri": "https://localhost:8080/"
        },
        "id": "cf_wl9NiQZb6",
        "outputId": "0d03fbd4-1aeb-4b80-a96f-ecaac2fc28b0"
      },
      "execution_count": null,
      "outputs": [
        {
          "output_type": "stream",
          "name": "stdout",
          "text": [
            "43.0\n",
            "N'haurà fet exactament 43.0 caixes\n"
          ]
        }
      ]
    },
    {
      "cell_type": "markdown",
      "source": [
        "10. En un vaixell hi van 175 mariners i en un submarí 56. quants mariners hi haurà en 14 vaixells i 6 submarins iguals als esmentats?"
      ],
      "metadata": {
        "id": "fNC0hxKsT36W"
      }
    },
    {
      "cell_type": "code",
      "source": [
        "vaixell=175*14\n",
        "submari=56*6\n",
        "mariners=vaixell+submari\n",
        "print(mariners)\n",
        "print(\"Hi haurà\", mariners, \"mariners\")"
      ],
      "metadata": {
        "colab": {
          "base_uri": "https://localhost:8080/"
        },
        "id": "olLIOvpuQzBh",
        "outputId": "a58a18a9-a5d6-447f-9133-bf00832d0478"
      },
      "execution_count": null,
      "outputs": [
        {
          "output_type": "stream",
          "name": "stdout",
          "text": [
            "2786\n",
            "Hi haurà 2786 mariners\n"
          ]
        }
      ]
    }
  ]
}