{
  "nbformat": 4,
  "nbformat_minor": 0,
  "metadata": {
    "colab": {
      "provenance": [],
      "authorship_tag": "ABX9TyMF50d2CDGAOAwe8GIv3Jsj",
      "include_colab_link": true
    },
    "kernelspec": {
      "name": "python3",
      "display_name": "Python 3"
    },
    "language_info": {
      "name": "python"
    }
  },
  "cells": [
    {
      "cell_type": "markdown",
      "metadata": {
        "id": "view-in-github",
        "colab_type": "text"
      },
      "source": [
        "<a href=\"https://colab.research.google.com/github/rvallej4/Programacio-i-robotica-curs-24.25/blob/main/type.ipynb\" target=\"_parent\"><img src=\"https://colab.research.google.com/assets/colab-badge.svg\" alt=\"Open In Colab\"/></a>"
      ]
    },
    {
      "cell_type": "markdown",
      "source": [
        "EXAMEN: DIMECRES 9/10/2024"
      ],
      "metadata": {
        "id": "4h7_vHDQMrKv"
      }
    },
    {
      "cell_type": "markdown",
      "source": [
        "TYPE"
      ],
      "metadata": {
        "id": "jPhGqvtuMfB2"
      }
    },
    {
      "cell_type": "code",
      "source": [
        "x=10\n",
        "print(type(x))"
      ],
      "metadata": {
        "id": "734yzy3eL_J7",
        "colab": {
          "base_uri": "https://localhost:8080/"
        },
        "outputId": "fd33b51a-bd4a-4b91-916b-74910440c0e3"
      },
      "execution_count": null,
      "outputs": [
        {
          "output_type": "stream",
          "name": "stdout",
          "text": [
            "<class 'int'>\n"
          ]
        }
      ]
    },
    {
      "cell_type": "code",
      "source": [
        "x=1,5\n",
        "print(type(x))"
      ],
      "metadata": {
        "id": "QbGRTxVoMGgo"
      },
      "execution_count": null,
      "outputs": []
    },
    {
      "cell_type": "markdown",
      "source": [
        "Una tupla es una estructura de datos ligera que tiene un número específico y una secuencia de valores. Al crear una instancia de la tupla, se define el número y el tipo de datos de cada valor (o elemento). Por ejemplo, una tupla de 2 (o par) tiene dos elementos."
      ],
      "metadata": {
        "id": "Mmb52OzQMVFB"
      }
    },
    {
      "cell_type": "code",
      "source": [
        "x=1.5\n",
        "print(type(x))"
      ],
      "metadata": {
        "id": "LPNT_ihOMXCn"
      },
      "execution_count": null,
      "outputs": []
    },
    {
      "cell_type": "code",
      "execution_count": null,
      "metadata": {
        "id": "Slnt-BEeJwFv"
      },
      "outputs": [],
      "source": [
        "nines = input(\"Quantes nines tinc?\")\n",
        "print(nines)"
      ]
    },
    {
      "cell_type": "code",
      "source": [
        "nines = input(\"Quantes nines tinc?\")\n",
        "print(nines)\n",
        "print(type(nines))"
      ],
      "metadata": {
        "id": "opAgrGHwKcYh"
      },
      "execution_count": null,
      "outputs": []
    },
    {
      "cell_type": "code",
      "source": [
        "nines=int(input(\"Quantes nines tinc?\"))\n",
        "print(nines)"
      ],
      "metadata": {
        "id": "WzXPV9JDKkfk"
      },
      "execution_count": null,
      "outputs": []
    },
    {
      "cell_type": "markdown",
      "source": [
        "- Pregunta-li a la variable mitjançant el type, quin tipus de funció és.\n",
        "- Un cop li hagis preguntat, si la resposta és un número sencer cal que sigui: \"Escriu el nombre amb un número no sencer o decimal\", sinó caldrà que imprimeixi el valor nines.\n",
        "- Fes un diagrama de flux per a parlar de la compra de llibres, punts de llibre i portallibres, tenint en compte que el preu de tots els llibres són 5€, els punts de llibres 1,5€ i els portallibres 10€\n"
      ],
      "metadata": {
        "id": "o1a5hIm5LIE7"
      }
    }
  ]
}