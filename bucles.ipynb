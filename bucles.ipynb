{
  "nbformat": 4,
  "nbformat_minor": 0,
  "metadata": {
    "colab": {
      "provenance": []
    },
    "kernelspec": {
      "name": "python3",
      "display_name": "Python 3"
    },
    "language_info": {
      "name": "python"
    }
  },
  "cells": [
    {
      "cell_type": "code",
      "execution_count": null,
      "metadata": {
        "colab": {
          "base_uri": "https://localhost:8080/"
        },
        "id": "E9UOnxiu9li9",
        "outputId": "42e0cf3e-568e-4dd5-e0ff-19ccb9d7996b"
      },
      "outputs": [
        {
          "output_type": "stream",
          "name": "stdout",
          "text": [
            "Lunes\n",
            "Martes\n",
            "Miercoles\n",
            "Terminado\n"
          ]
        }
      ],
      "source": [
        "for i in[\"Lunes\", \"Martes\", \"Miercoles\"]:\n",
        "    print (i)\n",
        "print(\"Terminado\")"
      ]
    },
    {
      "cell_type": "code",
      "source": [
        "semana = [\"Lunes\", \"Martes\", \"Miercoles\"]\n",
        "for dia in semana:\n",
        "    print(dia)\n",
        "print(\"Terminado\")"
      ],
      "metadata": {
        "colab": {
          "base_uri": "https://localhost:8080/"
        },
        "id": "nFLi0XPp9peA",
        "outputId": "8cd46cb9-0d7d-412d-9e23-057079e6587d"
      },
      "execution_count": null,
      "outputs": [
        {
          "output_type": "stream",
          "name": "stdout",
          "text": [
            "Lunes\n",
            "Martes\n",
            "Miercoles\n",
            "Terminado\n"
          ]
        }
      ]
    }
  ]
}