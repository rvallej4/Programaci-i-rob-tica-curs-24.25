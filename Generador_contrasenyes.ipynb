{
  "nbformat": 4,
  "nbformat_minor": 0,
  "metadata": {
    "colab": {
      "provenance": []
    },
    "kernelspec": {
      "name": "python3",
      "display_name": "Python 3"
    },
    "language_info": {
      "name": "python"
    }
  },
  "cells": [
    {
      "cell_type": "code",
      "execution_count": null,
      "metadata": {
        "colab": {
          "base_uri": "https://localhost:8080/"
        },
        "id": "jJ4wdiFzF2MO",
        "outputId": "70c86428-1bec-4f70-e965-a4620241b8da"
      },
      "outputs": [
        {
          "output_type": "stream",
          "name": "stdout",
          "text": [
            "Ara et crearé una contrasenya segura que compleix aquestes 7 condicions:\n",
            "- Té un .\n",
            "- Té un número del 0 al 5\n",
            "- Té una majúscula\n",
            "- Té una minúscula\n",
            "- Té una _\n",
            "- Té una !\n",
            "- Té una llargada de més de 10 caràcters\n",
            "\n",
            "Print contrasenya com a llista\n",
            "['.', '0', '1', '2', '3', '4', '5', 'A', 'b', '_', '!']\n",
            "\n",
            "Print contrasenya com a string\n",
            ".012345Ab_!\n"
          ]
        }
      ],
      "source": [
        "print(\"Ara et crearé una contrasenya segura que compleix aquestes 7 condicions:\")\n",
        "print(\"- Té un .\")\n",
        "print(\"- Té un número del 0 al 5\")\n",
        "print(\"- Té una majúscula\")\n",
        "print(\"- Té una minúscula\")\n",
        "print(\"- Té una _\")\n",
        "print(\"- Té una !\")\n",
        "print(\"- Té una llargada de més de 10 caràcters\")\n",
        "print() # deixa una línia en blanc\n",
        "\n",
        "# contrasenya = .012345Ab_!\n",
        "\n",
        "contrasenya = [] # llista\n",
        "\n",
        "contrasenya.append(\".\") # append -> afegir al darrera de la llista\n",
        "contrasenya.append(\"0\")\n",
        "contrasenya.append(\"1\")\n",
        "contrasenya.append(\"2\")\n",
        "contrasenya.append(\"3\")\n",
        "contrasenya.append(\"4\")\n",
        "contrasenya.append(\"5\")\n",
        "contrasenya.append(\"A\")\n",
        "contrasenya.append(\"b\")\n",
        "contrasenya.append(\"_\")\n",
        "contrasenya.append(\"!\")\n",
        "\n",
        "print(\"Print contrasenya com a llista\")\n",
        "print(contrasenya)\n",
        "print()\n",
        "\n",
        "delimitador = '' # els elements de la llista van entre '' i, per tant, això els delimita\n",
        "join_str = delimitador.join(contrasenya) # creo una variable per unir (join) tot en una string\n",
        "\n",
        "print(\"Print contrasenya com a string\")\n",
        "print(join_str)\n"
      ]
    },
    {
      "cell_type": "code",
      "source": [
        "llista = [\"Patata\", \"Ceba\", \"Pera\"] # Strings dins d'una llista\n",
        "print (llista[1])\n",
        "print(llista)\n",
        "llista.pop(0)\n",
        "print(llista)"
      ],
      "metadata": {
        "colab": {
          "base_uri": "https://localhost:8080/"
        },
        "id": "PoZe9Sr4R1fm",
        "outputId": "d3d2b7dd-5e31-43e9-970c-db1b89b5192c"
      },
      "execution_count": null,
      "outputs": [
        {
          "output_type": "stream",
          "name": "stdout",
          "text": [
            "Ceba\n",
            "['Patata', 'Ceba', 'Pera']\n",
            "['Ceba', 'Pera']\n"
          ]
        }
      ]
    },
    {
      "cell_type": "code",
      "source": [
        "llista = [\"x\", \"!\", \"@\"]\n",
        "delimitador = '' # els elements de la llista van entre '' i, per tant, això els delimita\n",
        "join_str = delimitador.join(llista) # creo una variable per unir (join) tot en una string\n",
        "print(join_str)"
      ],
      "metadata": {
        "colab": {
          "base_uri": "https://localhost:8080/"
        },
        "id": "HYmntovmTUzk",
        "outputId": "e3e4b0b8-534e-4502-809d-d183988c113b"
      },
      "execution_count": null,
      "outputs": [
        {
          "output_type": "stream",
          "name": "stdout",
          "text": [
            "x!@\n"
          ]
        }
      ]
    },
    {
      "cell_type": "code",
      "source": [
        "abecedari =[\"a\", \"b\", \"c\", \"d\", \"e\", \"f\"]\n",
        "print(abecedari)\n",
        "abecedari2=\"\".join(abecedari)\n",
        "print(abecedari2)\n",
        "abecedari2=\",\".join(abecedari)\n",
        "print(abecedari2)\n"
      ],
      "metadata": {
        "colab": {
          "base_uri": "https://localhost:8080/"
        },
        "id": "goJRq88wyBic",
        "outputId": "4cd5b9c9-3cba-4d29-d18b-d16fb0e140b2"
      },
      "execution_count": null,
      "outputs": [
        {
          "output_type": "stream",
          "name": "stdout",
          "text": [
            "['a', 'b', 'c', 'd', 'e', 'f']\n",
            "abcdef\n",
            "a,b,c,d,e,f\n"
          ]
        }
      ]
    }
  ]
}