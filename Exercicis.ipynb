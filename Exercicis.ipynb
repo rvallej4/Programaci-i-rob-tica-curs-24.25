{
  "nbformat": 4,
  "nbformat_minor": 0,
  "metadata": {
    "colab": {
      "provenance": []
    },
    "kernelspec": {
      "name": "python3",
      "display_name": "Python 3"
    },
    "language_info": {
      "name": "python"
    }
  },
  "cells": [
    {
      "cell_type": "markdown",
      "source": [
        "ex 1. El sou d'una persona, i si printa que cobra més de 2000 euros, que surti que has de pagar el 15% de IRPF"
      ],
      "metadata": {
        "id": "bjl9rio3T2XU"
      }
    },
    {
      "cell_type": "markdown",
      "source": [
        "ex 2. Heu de posar dues variables amb valors diferents i, cal que surti a la pantalla el que és superior.\n"
      ],
      "metadata": {
        "id": "9h9PGVhFTjio"
      }
    },
    {
      "cell_type": "markdown",
      "source": [
        "ex 3. Imagineu-vos que teniu una nòmina de 2950€. Cal que feu ue pagui a l'estat un 20% d'impostos. Un cop hàgiu fet això, cal que pagueu les factures del gas (70€) i de l'aigua (55€). A banda d'això, cal pagar el pis, 1000€. Quants diners li quedaran a aquesta persona per sobreviure?\n",
        "Si el resultat de l'import és inferior a 1000€ cal que printeu \"Compte per si et ve un imprevist!\""
      ],
      "metadata": {
        "id": "SBZWGrlgUdnn"
      }
    }
  ]
}