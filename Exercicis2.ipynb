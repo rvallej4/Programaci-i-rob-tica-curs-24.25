{
  "nbformat": 4,
  "nbformat_minor": 0,
  "metadata": {
    "colab": {
      "provenance": [],
      "authorship_tag": "ABX9TyNm/LFUg+WwyeWwRpOiuB5b",
      "include_colab_link": true
    },
    "kernelspec": {
      "name": "python3",
      "display_name": "Python 3"
    },
    "language_info": {
      "name": "python"
    }
  },
  "cells": [
    {
      "cell_type": "markdown",
      "metadata": {
        "id": "view-in-github",
        "colab_type": "text"
      },
      "source": [
        "<a href=\"https://colab.research.google.com/github/rvallej4/Programacio-i-robotica-curs-24.25/blob/main/Exercicis2.ipynb\" target=\"_parent\"><img src=\"https://colab.research.google.com/assets/colab-badge.svg\" alt=\"Open In Colab\"/></a>"
      ]
    },
    {
      "cell_type": "markdown",
      "source": [
        "Escribir un programa que muestre por pantalla la cadena ¡Hola Mundo!.\n"
      ],
      "metadata": {
        "id": "hnvV-sMQPq3j"
      }
    },
    {
      "cell_type": "code",
      "source": [
        "print(\"¡Hola Mundo!\")"
      ],
      "metadata": {
        "colab": {
          "base_uri": "https://localhost:8080/"
        },
        "id": "R7RDY5wUQAcI",
        "outputId": "ff575951-824c-412e-dbc9-0cce1d20805e"
      },
      "execution_count": 3,
      "outputs": [
        {
          "output_type": "stream",
          "name": "stdout",
          "text": [
            "¡Hola Mundo!\n"
          ]
        }
      ]
    },
    {
      "cell_type": "markdown",
      "source": [
        "Escribir un programa que almacene la cadena ¡Hola Mundo! en una variable y luego muestre por pantalla el contenido de la variable."
      ],
      "metadata": {
        "id": "BuqAJCqZPuJP"
      }
    },
    {
      "cell_type": "code",
      "source": [
        "mensaje = \"¡Hola Mundo!\"\n",
        "print(mensaje)"
      ],
      "metadata": {
        "colab": {
          "base_uri": "https://localhost:8080/"
        },
        "id": "8kJOBd97QHey",
        "outputId": "d6eea123-44a5-4f79-9419-a67417a947af"
      },
      "execution_count": 2,
      "outputs": [
        {
          "output_type": "stream",
          "name": "stdout",
          "text": [
            "¡Hola Mundo!\n"
          ]
        }
      ]
    },
    {
      "cell_type": "markdown",
      "source": [
        "Escribir un programa que pregunte el nombre del usuario en la consola y después de que el usuario lo introduzca muestre por pantalla la cadena ¡Hola <nombre>!, donde <nombre> es el nombre que el usuario haya introducido."
      ],
      "metadata": {
        "id": "EmUTEc3nPyj4"
      }
    },
    {
      "cell_type": "code",
      "source": [
        "nombre = input(\"Introduce tu nombre: \")\n",
        "print(\"¡Hola \" + nombre + \"!\")"
      ],
      "metadata": {
        "id": "LCLiI2rqP7R7"
      },
      "execution_count": null,
      "outputs": []
    },
    {
      "cell_type": "markdown",
      "source": [
        "Escribir un programa que muestre por pantalla el resultado de la siguiente operación aritmética ((3+2)/(2*5))^2"
      ],
      "metadata": {
        "id": "qH46KdABP6Sg"
      }
    },
    {
      "cell_type": "code",
      "execution_count": 1,
      "metadata": {
        "colab": {
          "base_uri": "https://localhost:8080/"
        },
        "id": "hGXsa7H3Pjjo",
        "outputId": "be03d594-55fa-433d-8a5a-f8852f0ab500"
      },
      "outputs": [
        {
          "output_type": "stream",
          "name": "stdout",
          "text": [
            "0.25\n"
          ]
        }
      ],
      "source": [
        "print(((3 + 2) / (2 * 5)) ** 2)"
      ]
    },
    {
      "cell_type": "markdown",
      "source": [
        "Escribir un programa que pregunte al usuario por el número de horas trabajadas y el coste por hora. Después debe mostrar por pantalla la paga que le corresponde."
      ],
      "metadata": {
        "id": "UHDcshIjQoM5"
      }
    },
    {
      "cell_type": "code",
      "source": [
        "horas = float(input(\"Introduce tus horas de trabajo: \"))\n",
        "coste = float(input(\"Introduce lo que cobras por hora: \"))\n",
        "paga = horas * coste\n",
        "print(\"Tu paga es\", paga)"
      ],
      "metadata": {
        "id": "9XWidy6EQues"
      },
      "execution_count": null,
      "outputs": []
    },
    {
      "cell_type": "markdown",
      "source": [
        "Una juguetería tiene mucho éxito en dos de sus productos: payasos y muñecas. Suele hacer venta por correo y la empresa de logística les cobra por peso de cada paquete así que deben calcular el peso de los payasos y muñecas que saldrán en cada paquete a demanda. Cada payaso pesa 112 g y cada muñeca 75 g. Escribir un programa que lea el número de payasos y muñecas vendidos en el último pedido y calcule el peso total del paquete que será enviado."
      ],
      "metadata": {
        "id": "9SXgiS7tRVMm"
      }
    },
    {
      "cell_type": "code",
      "source": [
        "peso_payaso = 112\n",
        "peso_muñeca = 75\n",
        "payasos = int(input(\"Introduce el número de payasos a enviar: \"))\n",
        "muñecas = int(input(\"Introduce el número de muñecas a enviar: \"))\n",
        "peso_total = peso_payaso * payasos + peso_muñeca * muñecas\n",
        "print(\"El peso total del paquete es \" + str(peso_total))"
      ],
      "metadata": {
        "id": "ADg4M9yURWpa"
      },
      "execution_count": null,
      "outputs": []
    }
  ]
}