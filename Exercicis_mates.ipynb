{
  "nbformat": 4,
  "nbformat_minor": 0,
  "metadata": {
    "colab": {
      "provenance": []
    },
    "kernelspec": {
      "name": "python3",
      "display_name": "Python 3"
    },
    "language_info": {
      "name": "python"
    }
  },
  "cells": [
    {
      "cell_type": "code",
      "execution_count": 1,
      "metadata": {
        "colab": {
          "base_uri": "https://localhost:8080/"
        },
        "id": "Xx-UPEXxOSYS",
        "outputId": "7b95c8f9-58c8-428e-bb37-75630e33d2ae"
      },
      "outputs": [
        {
          "output_type": "stream",
          "name": "stdout",
          "text": [
            "Ingrese la medida del lado del cuadrado: 2\n",
            "La superficie del cuadrado es \n",
            "4\n"
          ]
        }
      ],
      "source": [
        "##Calculo de la superficie de un cuadrado conociendo uno de sus lados\n",
        "\n",
        "##lado = input(\"Ingrese la medida del lado del cuadrado: \")\n",
        "##lado = int(lado)\n",
        "lado = int(input(\"Ingrese la medida del lado del cuadrado: \"))\n",
        "superficie = lado * lado\n",
        "print(\"La superficie del cuadrado es \")\n",
        "print (superficie)"
      ]
    },
    {
      "cell_type": "code",
      "source": [
        "##Realizar la carga del lado de un cuadrado, mostrar por pantalla el perímetro\n",
        "##del mismo (El perímetro de un cuadrado se calcula multiplicando el valor\n",
        "##del lado por cuatro)\n",
        "\n",
        "lado_cuad = int(input(\"Ingrese la medida del lado del cuadrado: \"))\n",
        "print(\"El perimetro del cuadrado es: \", lado_cuad*4)"
      ],
      "metadata": {
        "id": "Dp0600pWPv89"
      },
      "execution_count": null,
      "outputs": []
    },
    {
      "cell_type": "code",
      "source": [
        "##Escribir un programa en el cual se ingresen cuatro números, calcular e\n",
        "##informar la suma de los dos primeros y el producto del tercero y el cuarto.\n",
        "\n",
        "num1 = int(input(\"Ingrese el numero 1: \"))\n",
        "num2 = int(input(\"Ingrese el numero 2: \"))\n",
        "num3 = int(input(\"Ingrese el numero 3: \"))\n",
        "num4 = int(input(\"Ingrese el numero 4: \"))\n",
        "\n",
        "print(\"La suma de \",num1,\" y \",num2,\" es: \", num1+num2)\n",
        "print(\"El producto de \",num3,\" y \",num4,\" es: \", num3*num4)"
      ],
      "metadata": {
        "id": "EW9cq4sQQK6r"
      },
      "execution_count": null,
      "outputs": []
    },
    {
      "cell_type": "code",
      "source": [
        "##Realizar un programa que lea cuatro valores numéricos e informar su suma\n",
        "##y promedio.\n",
        "\n",
        "num1 = float(input(\"Ingrese el numero 1: \"))\n",
        "num2 = float(input(\"Ingrese el numero 2: \"))\n",
        "num3 = float(input(\"Ingrese el numero 3: \"))\n",
        "num4 = float(input(\"Ingrese el numero 4: \"))\n",
        "\n",
        "suma = num1+num2+num3+num4;\n",
        "\n",
        "print(\"La suma de los numeros ingresados es: \",suma)\n",
        "print(\"El promedio de los numeros ingresados es: \",suma/4)"
      ],
      "metadata": {
        "id": "t_CiFBhtQzPi"
      },
      "execution_count": null,
      "outputs": []
    },
    {
      "cell_type": "code",
      "source": [
        "##Leer por teclado dos numeros y calcular la suma y multiplicacion de los mismos.\n",
        "##Mostrar los resultados por pantalla\n",
        "\n",
        "num1 = int(input(\"Ingrese numero 1: \"))\n",
        "num2 = int(input(\"Ingrese numero 2: \"))\n",
        "\n",
        "print (\"La suma de los numeros es: \",num1+num2)\n",
        "print (\"El producto de los numeros es: \",num1*num2)"
      ],
      "metadata": {
        "id": "thZy097FO8v6"
      },
      "execution_count": null,
      "outputs": []
    }
  ]
}