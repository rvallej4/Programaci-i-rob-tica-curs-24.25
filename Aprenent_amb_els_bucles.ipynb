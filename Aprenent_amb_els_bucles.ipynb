{
  "nbformat": 4,
  "nbformat_minor": 0,
  "metadata": {
    "colab": {
      "provenance": []
    },
    "kernelspec": {
      "name": "python3",
      "display_name": "Python 3"
    },
    "language_info": {
      "name": "python"
    }
  },
  "cells": [
    {
      "cell_type": "markdown",
      "source": [
        "\n",
        "Feu el llistat següent: [\"Roger\",\"Lidia\",\"Neus\",\"Marc\",\"Anna\",\"Arnau\",\"Héctor\",\"Sílvia\"]\n",
        "Creeu un bucle.\n",
        "\n",
        "Feu una iteració\n",
        "iter=0\n",
        "iter=iter+1\n",
        "\n",
        "Printeu \"La persona es diu:---\""
      ],
      "metadata": {
        "id": "HxAsNxCtbk0T"
      }
    },
    {
      "cell_type": "code",
      "execution_count": null,
      "metadata": {
        "colab": {
          "base_uri": "https://localhost:8080/"
        },
        "id": "SYis-G5HZ44L",
        "outputId": "9b41cc5e-4358-49a4-85d1-c5d4e2d0f514"
      },
      "outputs": [
        {
          "output_type": "stream",
          "name": "stdout",
          "text": [
            "La persona es diu: Roger\n",
            "La persona es diu: Lidia\n",
            "La persona es diu: Neus\n",
            "La persona es diu: Marc\n",
            "La persona es diu: Anna\n",
            "La persona es diu: Arnau\n",
            "La persona es diu: Héctor\n",
            "La persona es diu: Sílvia\n"
          ]
        }
      ],
      "source": [
        "iter=0\n",
        "llistat=[\"Roger\",\"Lidia\",\"Neus\",\"Marc\",\"Anna\",\"Arnau\",\"Héctor\",\"Sílvia\"]\n",
        "for nom in llistat:\n",
        "  iter=iter+1\n",
        "  print(\"La persona es diu:\",nom)\n"
      ]
    },
    {
      "cell_type": "markdown",
      "source": [
        "Feu un recompte de quantes persones hi ha en aquest llistat"
      ],
      "metadata": {
        "id": "DBPhOEVxb3Pt"
      }
    },
    {
      "cell_type": "code",
      "source": [
        "llistat=[\"Roger\",\"Lidia\",\"Neus\",\"Marc\",\"Anna\",\"Arnau\",\"Héctor\",\"Sílvia\"]\n",
        "llistat.count(\"Roger\")"
      ],
      "metadata": {
        "colab": {
          "base_uri": "https://localhost:8080/"
        },
        "id": "lRZwumvObiMi",
        "outputId": "bb86de6a-b3b8-4136-81cd-456fe82e5c56"
      },
      "execution_count": null,
      "outputs": [
        {
          "output_type": "execute_result",
          "data": {
            "text/plain": [
              "1"
            ]
          },
          "metadata": {},
          "execution_count": 21
        }
      ]
    },
    {
      "cell_type": "code",
      "source": [
        "llistat=[\"Roger\",\"Lidia\",\"Neus\",\"Marc\",\"Anna\",\"Arnau\",\"Héctor\",\"Sílvia\"]\n",
        "len(llistat)\n"
      ],
      "metadata": {
        "colab": {
          "base_uri": "https://localhost:8080/"
        },
        "id": "gWuSiS5hdaA8",
        "outputId": "f02c0cb6-01e9-430b-95b3-d3cc75fbc71d"
      },
      "execution_count": null,
      "outputs": [
        {
          "output_type": "execute_result",
          "data": {
            "text/plain": [
              "8"
            ]
          },
          "metadata": {},
          "execution_count": 27
        }
      ]
    },
    {
      "cell_type": "code",
      "source": [
        "llistat=[\"Maria\",\"Ricard\",\"Laia\",\"Josep\",\"Júlia\",\"Pere\",\"Laura\",\"Kai\"]\n",
        "llistat2=\"\".join(llistat)\n",
        "print(llistat2)\n",
        "llistat3=str.upper(llistat2)\n",
        "print(llistat3)\n",
        "llistat2.count(\"r\")\n",
        "print(llistat2.count(\"R\"))\n",
        "print(llistat2.count(\"r\"))\n",
        "print(llistat3.count(\"r\"))\n",
        "print(llistat3.count(\"R\"))\n",
        "\n",
        "\n",
        "\n"
      ],
      "metadata": {
        "colab": {
          "base_uri": "https://localhost:8080/"
        },
        "id": "hA4OhXWrd-_N",
        "outputId": "b7f6f122-ff22-495e-f468-57af226a31d0"
      },
      "execution_count": null,
      "outputs": [
        {
          "output_type": "stream",
          "name": "stdout",
          "text": [
            "MariaRicardLaiaJosepJúliaPereLauraKai\n",
            "MARIARICARDLAIAJOSEPJÚLIAPERELAURAKAI\n",
            "1\n",
            "4\n",
            "0\n",
            "5\n"
          ]
        }
      ]
    },
    {
      "cell_type": "code",
      "source": [
        "Mesos = [\"gener\",\"febrer\",\"març\",\"abril\",\"maig\",\"juny\",\"juliol\",\"agosto\",\"setembre\",\"octubre\",\"novembre\",\"desembre\"]\n",
        "Cardinal = [\"primer\",\"segon\",\"tercer\",\"quart\",\"cinquè\",\"sisè\", \"setè\", \"vuitè\",\"novè\",\"desè\",\"undècim\",\"duodècim\"]\n",
        "iter = 1\n",
        "for mes in Mesos:\n",
        "    print(\"El\", Cardinal [iter-1], \"mes de l'any és el\", mes)\n",
        "    iter = iter+1"
      ],
      "metadata": {
        "colab": {
          "base_uri": "https://localhost:8080/"
        },
        "id": "yZD9Cj89gd7l",
        "outputId": "bbcf1c09-6f2b-49ab-9a4b-3a69efc1a0b7"
      },
      "execution_count": null,
      "outputs": [
        {
          "output_type": "stream",
          "name": "stdout",
          "text": [
            "El primer mes de l'any és el gener\n",
            "El segon mes de l'any és el febrer\n",
            "El tercer mes de l'any és el març\n",
            "El quart mes de l'any és el abril\n",
            "El cinquè mes de l'any és el maig\n",
            "El sisè mes de l'any és el juny\n",
            "El setè mes de l'any és el juliol\n",
            "El vuitè mes de l'any és el agosto\n",
            "El novè mes de l'any és el setembre\n",
            "El desè mes de l'any és el octubre\n",
            "El undècim mes de l'any és el novembre\n",
            "El duodècim mes de l'any és el desembre\n"
          ]
        }
      ]
    }
  ]
}